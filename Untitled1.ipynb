{
 "cells": [
  {
   "cell_type": "code",
   "execution_count": 1,
   "id": "10dab0fa",
   "metadata": {},
   "outputs": [],
   "source": [
    "import requests\n",
    "from bs4 import BeautifulSoup\n",
    "import pandas as pd"
   ]
  },
  {
   "cell_type": "code",
   "execution_count": 3,
   "id": "045f6baa",
   "metadata": {},
   "outputs": [
    {
     "name": "stdout",
     "output_type": "stream",
     "text": [
      "Top Restaurants in Delhi NCR | Zomato \n",
      "\n"
     ]
    }
   ],
   "source": [
    "header = {'User-Agent': 'Mozilla/5.0 (Windows NT 10.0; Win64; x64) AppleWebKit/537.36 (KHTML, like Gecko) Chrome/80.0.3987.122 Safari/537.36'}\n",
    "URL='https://www.zomato.com/ncr/top-restaurants'\n",
    "\n",
    "\n",
    "response = requests.get(URL,headers=header)\n",
    "html = response.text\n",
    "\n",
    "soup = BeautifulSoup(html,'lxml')\n",
    "print(soup.title.text,'\\n')\n"
   ]
  },
  {
   "cell_type": "code",
   "execution_count": 4,
   "id": "f631efb1",
   "metadata": {},
   "outputs": [
    {
     "name": "stdout",
     "output_type": "stream",
     "text": [
      "[]\n"
     ]
    }
   ],
   "source": [
    "top_rest = soup.find_all('div',class_=\"bke1zw-0 cMipmx\")\n",
    "print(top_rest)"
   ]
  },
  {
   "cell_type": "code",
   "execution_count": 2,
   "id": "d3aa8245",
   "metadata": {},
   "outputs": [
    {
     "ename": "IndentationError",
     "evalue": "unindent does not match any outer indentation level (<tokenize>, line 36)",
     "output_type": "error",
     "traceback": [
      "\u001b[0;36m  File \u001b[0;32m\"<tokenize>\"\u001b[0;36m, line \u001b[0;32m36\u001b[0m\n\u001b[0;31m    EmailClient.send(\"pc@cisco.com\", \"hello\", \"world\")\u001b[0m\n\u001b[0m    ^\u001b[0m\n\u001b[0;31mIndentationError\u001b[0m\u001b[0;31m:\u001b[0m unindent does not match any outer indentation level\n"
     ]
    }
   ],
   "source": [
    "import rpi.gpio as gpio\n",
    "from time import *\n",
    "from email import EmailClient\n",
    "\n",
    "def onEmailReceive(sender, subject, body):\n",
    "    print(\"Received from: \" + sender)\n",
    "\tprint(\"Subject: \" + subject)\n",
    "\tprint(\"Body: \" + body)\n",
    "\n",
    "def onEmailSend(status):\n",
    "\tprint(\"send status: \" + str(status))\n",
    "\n",
    "def main():\n",
    "    EmailClient.setup(\n",
    "\t\t\"mcu@cisco.com\",\n",
    "\t\t\"cisco.com\",\n",
    "\t\t\"mcu\",\n",
    "\t\t\"password\"\n",
    "\t)\n",
    "    EmailClient.onReceive(onEmailReceive)\n",
    "\tEmailClient.onSend(onEmailSend)\n",
    " \n",
    "def main():\n",
    "\tgpio.pinMode(3,INPUT)\n",
    "\tgpio.pinMode(5, OUT)\n",
    "\tgpio.pinMode(4,OUT)\n",
    "\tpinMode(6,OUT)\n",
    "\t\n",
    "\n",
    "\twhile True:\n",
    "\t\tmot=digitalRead(3);\n",
    "\t\tprint(mot);\n",
    "\t\tif(mot==1023):\n",
    "\t\t\tcustomWrite(4,HIGH);\n",
    "\t\t\tcustomWrite(5,\"CAMERA-ON\")\n",
    "            EmailClient.send(\"pc@cisco.com\", \"hello\", \"world\")\n",
    "\t\telse:\n",
    "\t\t\tcustomWrite(4,LOW);\n",
    "\t\t\tcustomWrite(5,\"CAMERA-OFF\")\n",
    "\n",
    "\t\tif (mot == 1023) :\n",
    "\t\t\tdigitalWrite(6,HIGH);\n",
    "\t\t\t\n",
    "\t\telse:\n",
    "\t\t\tdigitalWrite(6,LOW);\n",
    "\t\t\t\n",
    "\t# check email once a while\n",
    "\twhile True:\n",
    "\t\tEmailClient.receive()\n",
    "\t\tsleep(5)\n",
    "\n",
    "\t\n",
    "if __name__ == \"__main__\":\n",
    "\tmain()\n"
   ]
  },
  {
   "cell_type": "code",
   "execution_count": null,
   "id": "736e8ba5",
   "metadata": {},
   "outputs": [],
   "source": []
  }
 ],
 "metadata": {
  "kernelspec": {
   "display_name": "Python 3 (ipykernel)",
   "language": "python",
   "name": "python3"
  },
  "language_info": {
   "codemirror_mode": {
    "name": "ipython",
    "version": 3
   },
   "file_extension": ".py",
   "mimetype": "text/x-python",
   "name": "python",
   "nbconvert_exporter": "python",
   "pygments_lexer": "ipython3",
   "version": "3.9.7"
  }
 },
 "nbformat": 4,
 "nbformat_minor": 5
}
