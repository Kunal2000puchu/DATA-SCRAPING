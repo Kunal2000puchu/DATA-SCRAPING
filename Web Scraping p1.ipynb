{
 "cells": [
  {
   "cell_type": "code",
   "execution_count": 18,
   "id": "8cc0a3fa",
   "metadata": {},
   "outputs": [],
   "source": [
    "from bs4 import BeautifulSoup\n",
    "import requests\n",
    "import smtplib\n",
    "import time\n",
    "import datetime\n",
    "import smtplib\n",
    "from email.mime.multipart import MIMEMultipart\n",
    "from email.mime.text import MIMEText"
   ]
  },
  {
   "cell_type": "code",
   "execution_count": 19,
   "id": "4628a4ce",
   "metadata": {},
   "outputs": [
    {
     "name": "stdout",
     "output_type": "stream",
     "text": [
      "\n",
      "           2020 Apple MacBook Pro (13.3-inch/33.78 cm, Apple M1 chip with 8‑core CPU and 8‑core GPU, 8GB RAM, 256GB SSD) - Silver\n",
      "          \n",
      "\n",
      "                             ₹1,12,990.00\n",
      "                            \n"
     ]
    }
   ],
   "source": [
    "URL='https://www.amazon.in/Apple-MacBook-Chip-13-inch-256GB/dp/B08N5WG761/?_encoding=UTF8&pd_rd_w=zSUDZ&pf_rd_p=e0e8ce89-ede3-4c51-b6ad-44989efc8536&pf_rd_r=K8AQWPJH2RDHYD0ATHB2&pd_rd_r=b357f7de-601c-411d-99ed-8821d177fd28&pd_rd_wg=Tnrvf&ref_=pd_gw_ci_mcx_mr_hp_d'\n",
    "headers = {\"User-Agent\": \"Mozilla/5.0 (Macintosh; Intel Mac OS X 10_15_7) AppleWebKit/605.1.15 (KHTML, like Gecko) Version/14.1.1 Safari/605.1.15\", }\n",
    "page = requests.get(URL,headers=headers)\n",
    "soup1 = BeautifulSoup(page.content,\"html.parser\")\n",
    "soup2 = BeautifulSoup(soup1.prettify(),\"html.parser\")\n",
    "\n",
    "title = soup2.find(id='productTitle').get_text()\n",
    "price = soup2.find(class_='a-offscreen').get_text()\n",
    "\n",
    "print(title)\n",
    "print(price)"
   ]
  },
  {
   "cell_type": "code",
   "execution_count": 20,
   "id": "2f60030a",
   "metadata": {},
   "outputs": [
    {
     "name": "stdout",
     "output_type": "stream",
     "text": [
      "2020 Apple MacBook Pro (13.3-inch/33.78 cm, Apple M1 chip with 8‑core CPU and 8‑core GPU, 8GB RAM, 256GB SSD) - Silver\n",
      "1,12,990.00\n"
     ]
    }
   ],
   "source": [
    "title = title.strip()\n",
    "price = price.strip()[1:]\n",
    "print(title)\n",
    "print(price)"
   ]
  },
  {
   "cell_type": "code",
   "execution_count": 21,
   "id": "c04ce949",
   "metadata": {},
   "outputs": [
    {
     "name": "stdout",
     "output_type": "stream",
     "text": [
      "112990.0\n"
     ]
    }
   ],
   "source": [
    "product_price=''\n",
    "for letters in price:\n",
    "    if letters.isnumeric() or letters == '.':\n",
    "        product_price +=letters\n",
    "print(float(product_price))"
   ]
  },
  {
   "cell_type": "code",
   "execution_count": 22,
   "id": "d962f781",
   "metadata": {},
   "outputs": [],
   "source": [
    "cost=int(float(product_price))"
   ]
  },
  {
   "cell_type": "code",
   "execution_count": 23,
   "id": "6fdc8d85",
   "metadata": {
    "scrolled": true
   },
   "outputs": [
    {
     "name": "stdout",
     "output_type": "stream",
     "text": [
      "112990\n"
     ]
    }
   ],
   "source": [
    "type(cost)\n",
    "print(cost)"
   ]
  },
  {
   "cell_type": "code",
   "execution_count": 24,
   "id": "fa62260e",
   "metadata": {},
   "outputs": [
    {
     "name": "stdout",
     "output_type": "stream",
     "text": [
      "2022-04-14\n"
     ]
    }
   ],
   "source": [
    "import datetime\n",
    "today=datetime.date.today()\n",
    "print(today)"
   ]
  },
  {
   "cell_type": "code",
   "execution_count": 25,
   "id": "58a6779d",
   "metadata": {},
   "outputs": [],
   "source": [
    "import csv\n",
    "\n",
    "header = ['Title','Price','Date']\n",
    "data = [title,cost,today]\n",
    "\n",
    "with open('amazon1.csv','w',newline='',encoding='UTF8') as f:\n",
    "    writer = csv.writer(f)\n",
    "    writer.writerow(header)\n",
    "    writer.writerow(data)"
   ]
  },
  {
   "cell_type": "code",
   "execution_count": 26,
   "id": "4a6612c6",
   "metadata": {
    "scrolled": true
   },
   "outputs": [
    {
     "name": "stdout",
     "output_type": "stream",
     "text": [
      "2022-04-14\n"
     ]
    }
   ],
   "source": [
    "import datetime\n",
    "today=datetime.date.today()\n",
    "print(today)"
   ]
  },
  {
   "cell_type": "code",
   "execution_count": 27,
   "id": "fe32fe0c",
   "metadata": {},
   "outputs": [],
   "source": [
    "def check_price():\n",
    "    URL = 'https://www.amazon.in/Apple-MacBook-14-inch-8%E2%80%91core-14%E2%80%91core/dp/B09JR8TX74/ref=sr_1_1_sspa?crid=2332MLREEP66T&keywords=macbook+pro&qid=1649870083&sprefix=Mac%2Caps%2C390&sr=8-1-spons&psc=1&spLa=ZW5jcnlwdGVkUXVhbGlmaWVyPUEySFgzTVY1N1g0WENXJmVuY3J5cHRlZElkPUEwODQ4ODA1MlVYNkZXVTg2QzcyTyZlbmNyeXB0ZWRBZElkPUEwODMxNjE3MlNCRThFVVpLWE84USZ3aWRnZXROYW1lPXNwX2F0ZiZhY3Rpb249Y2xpY2tSZWRpcmVjdCZkb05vdExvZ0NsaWNrPXRydWU='\n",
    "    headers = {\"User-Agent\": \"Mozilla/5.0 (Macintosh; Intel Mac OS X 10_15_7) AppleWebKit/605.1.15 (KHTML, like Gecko) Version/14.1.1 Safari/605.1.15\", }\n",
    "    page = requests.get(URL,headers=headers)\n",
    "    soup1 = BeautifulSoup(page.content,\"html.parser\")\n",
    "    soup2 = BeautifulSoup(soup1.prettify(),\"html.parser\")\n",
    "\n",
    "    title = soup2.find(id='productTitle').get_text()\n",
    "    price = soup2.find(class_='a-offscreen').get_text()\n",
    "    \n",
    "    title = title.strip()\n",
    "    price = price.strip()[1:] \n",
    "    \n",
    "    import datetime\n",
    "    today=datetime.date.today()\n",
    "    \n",
    "    import csv\n",
    "\n",
    "    header = ['Title','Price','Date']\n",
    "    data = [title,cost,today]\n",
    "\n",
    "    with open('amazon1.csv','a+',newline='',encoding='UTF8') as f:\n",
    "        writer = csv.writer(f)\n",
    "        writer.writerow(data)\n",
    "        \n",
    "    if float(cost < 3000000):\n",
    "        send_mail()"
   ]
  },
  {
   "cell_type": "code",
   "execution_count": 28,
   "id": "2cef5671",
   "metadata": {},
   "outputs": [],
   "source": [
    "def send_mail():\n",
    "    mail_content = '''Hello,\n",
    "        This is a simple mail. There is only text, no attachments are there The mail is sent using Python SMTP library.\n",
    "        Thank You '''\n",
    "\n",
    "    sender_address = 'weekend3warriors@gmail.com'\n",
    "    sender_pass = 'kalaikundaToasansol'\n",
    "    receiver_address = 'kunal13thacharya@gmail.com'\n",
    "    #Setup the MIME\n",
    "    message = MIMEMultipart()\n",
    "    message['From'] = sender_address\n",
    "    message['To'] = receiver_address\n",
    "    message['Subject'] = 'A test mail sent by Python. It has an attachment.'   #The subject line\n",
    "    #The body and the attachments for the mail\n",
    "    message.attach(MIMEText(mail_content, 'plain'))\n",
    "    #Create SMTP session for sending the mail\n",
    "    session = smtplib.SMTP('smtp.gmail.com', 587) #use gmail with port\n",
    "    session.starttls() #enable security\n",
    "    session.login(sender_address, sender_pass) #login with mail_id and password\n",
    "    text = message.as_string()\n",
    "    session.sendmail(sender_address, receiver_address, text)\n",
    "    session.quit()\n",
    "    print('Mail Sent')"
   ]
  },
  {
   "cell_type": "code",
   "execution_count": 29,
   "id": "fab3b370",
   "metadata": {},
   "outputs": [
    {
     "name": "stdout",
     "output_type": "stream",
     "text": [
      "Mail Sent\n",
      "Mail Sent\n",
      "Mail Sent\n",
      "Mail Sent\n",
      "Mail Sent\n",
      "Mail Sent\n"
     ]
    },
    {
     "ename": "KeyboardInterrupt",
     "evalue": "",
     "output_type": "error",
     "traceback": [
      "\u001b[0;31m---------------------------------------------------------------------------\u001b[0m",
      "\u001b[0;31mgaierror\u001b[0m                                  Traceback (most recent call last)",
      "\u001b[0;32m~/opt/anaconda3/lib/python3.9/socket.py\u001b[0m in \u001b[0;36mgetfqdn\u001b[0;34m(name)\u001b[0m\n\u001b[1;32m    791\u001b[0m     \u001b[0;32mtry\u001b[0m\u001b[0;34m:\u001b[0m\u001b[0;34m\u001b[0m\u001b[0;34m\u001b[0m\u001b[0m\n\u001b[0;32m--> 792\u001b[0;31m         \u001b[0mhostname\u001b[0m\u001b[0;34m,\u001b[0m \u001b[0maliases\u001b[0m\u001b[0;34m,\u001b[0m \u001b[0mipaddrs\u001b[0m \u001b[0;34m=\u001b[0m \u001b[0mgethostbyaddr\u001b[0m\u001b[0;34m(\u001b[0m\u001b[0mname\u001b[0m\u001b[0;34m)\u001b[0m\u001b[0;34m\u001b[0m\u001b[0;34m\u001b[0m\u001b[0m\n\u001b[0m\u001b[1;32m    793\u001b[0m     \u001b[0;32mexcept\u001b[0m \u001b[0merror\u001b[0m\u001b[0;34m:\u001b[0m\u001b[0;34m\u001b[0m\u001b[0;34m\u001b[0m\u001b[0m\n",
      "\u001b[0;31mgaierror\u001b[0m: [Errno 8] nodename nor servname provided, or not known",
      "\nDuring handling of the above exception, another exception occurred:\n",
      "\u001b[0;31mKeyboardInterrupt\u001b[0m                         Traceback (most recent call last)",
      "\u001b[0;32m/var/folders/tn/n6_dvryd38x6qv0b5s6r0btw0000gn/T/ipykernel_2422/4212351095.py\u001b[0m in \u001b[0;36m<module>\u001b[0;34m\u001b[0m\n\u001b[1;32m      1\u001b[0m \u001b[0;32mwhile\u001b[0m\u001b[0;34m(\u001b[0m\u001b[0;32mTrue\u001b[0m\u001b[0;34m)\u001b[0m\u001b[0;34m:\u001b[0m\u001b[0;34m\u001b[0m\u001b[0;34m\u001b[0m\u001b[0m\n\u001b[0;32m----> 2\u001b[0;31m     \u001b[0mcheck_price\u001b[0m\u001b[0;34m(\u001b[0m\u001b[0;34m)\u001b[0m\u001b[0;34m\u001b[0m\u001b[0;34m\u001b[0m\u001b[0m\n\u001b[0m\u001b[1;32m      3\u001b[0m     \u001b[0mtime\u001b[0m\u001b[0;34m.\u001b[0m\u001b[0msleep\u001b[0m\u001b[0;34m(\u001b[0m\u001b[0;36m5\u001b[0m\u001b[0;34m)\u001b[0m\u001b[0;34m\u001b[0m\u001b[0;34m\u001b[0m\u001b[0m\n",
      "\u001b[0;32m/var/folders/tn/n6_dvryd38x6qv0b5s6r0btw0000gn/T/ipykernel_2422/3203914310.py\u001b[0m in \u001b[0;36mcheck_price\u001b[0;34m()\u001b[0m\n\u001b[1;32m     25\u001b[0m \u001b[0;34m\u001b[0m\u001b[0m\n\u001b[1;32m     26\u001b[0m     \u001b[0;32mif\u001b[0m \u001b[0mfloat\u001b[0m\u001b[0;34m(\u001b[0m\u001b[0mcost\u001b[0m \u001b[0;34m<\u001b[0m \u001b[0;36m3000000\u001b[0m\u001b[0;34m)\u001b[0m\u001b[0;34m:\u001b[0m\u001b[0;34m\u001b[0m\u001b[0;34m\u001b[0m\u001b[0m\n\u001b[0;32m---> 27\u001b[0;31m         \u001b[0msend_mail\u001b[0m\u001b[0;34m(\u001b[0m\u001b[0;34m)\u001b[0m\u001b[0;34m\u001b[0m\u001b[0;34m\u001b[0m\u001b[0m\n\u001b[0m",
      "\u001b[0;32m/var/folders/tn/n6_dvryd38x6qv0b5s6r0btw0000gn/T/ipykernel_2422/2811258227.py\u001b[0m in \u001b[0;36msend_mail\u001b[0;34m()\u001b[0m\n\u001b[1;32m     15\u001b[0m     \u001b[0mmessage\u001b[0m\u001b[0;34m.\u001b[0m\u001b[0mattach\u001b[0m\u001b[0;34m(\u001b[0m\u001b[0mMIMEText\u001b[0m\u001b[0;34m(\u001b[0m\u001b[0mmail_content\u001b[0m\u001b[0;34m,\u001b[0m \u001b[0;34m'plain'\u001b[0m\u001b[0;34m)\u001b[0m\u001b[0;34m)\u001b[0m\u001b[0;34m\u001b[0m\u001b[0;34m\u001b[0m\u001b[0m\n\u001b[1;32m     16\u001b[0m     \u001b[0;31m#Create SMTP session for sending the mail\u001b[0m\u001b[0;34m\u001b[0m\u001b[0;34m\u001b[0m\u001b[0m\n\u001b[0;32m---> 17\u001b[0;31m     \u001b[0msession\u001b[0m \u001b[0;34m=\u001b[0m \u001b[0msmtplib\u001b[0m\u001b[0;34m.\u001b[0m\u001b[0mSMTP\u001b[0m\u001b[0;34m(\u001b[0m\u001b[0;34m'smtp.gmail.com'\u001b[0m\u001b[0;34m,\u001b[0m \u001b[0;36m587\u001b[0m\u001b[0;34m)\u001b[0m \u001b[0;31m#use gmail with port\u001b[0m\u001b[0;34m\u001b[0m\u001b[0;34m\u001b[0m\u001b[0m\n\u001b[0m\u001b[1;32m     18\u001b[0m     \u001b[0msession\u001b[0m\u001b[0;34m.\u001b[0m\u001b[0mstarttls\u001b[0m\u001b[0;34m(\u001b[0m\u001b[0;34m)\u001b[0m \u001b[0;31m#enable security\u001b[0m\u001b[0;34m\u001b[0m\u001b[0;34m\u001b[0m\u001b[0m\n\u001b[1;32m     19\u001b[0m     \u001b[0msession\u001b[0m\u001b[0;34m.\u001b[0m\u001b[0mlogin\u001b[0m\u001b[0;34m(\u001b[0m\u001b[0msender_address\u001b[0m\u001b[0;34m,\u001b[0m \u001b[0msender_pass\u001b[0m\u001b[0;34m)\u001b[0m \u001b[0;31m#login with mail_id and password\u001b[0m\u001b[0;34m\u001b[0m\u001b[0;34m\u001b[0m\u001b[0m\n",
      "\u001b[0;32m~/opt/anaconda3/lib/python3.9/smtplib.py\u001b[0m in \u001b[0;36m__init__\u001b[0;34m(self, host, port, local_hostname, timeout, source_address)\u001b[0m\n\u001b[1;32m    263\u001b[0m             \u001b[0;31m# if that can't be calculated, that we should use a domain literal\u001b[0m\u001b[0;34m\u001b[0m\u001b[0;34m\u001b[0m\u001b[0m\n\u001b[1;32m    264\u001b[0m             \u001b[0;31m# instead (essentially an encoded IP address like [A.B.C.D]).\u001b[0m\u001b[0;34m\u001b[0m\u001b[0;34m\u001b[0m\u001b[0m\n\u001b[0;32m--> 265\u001b[0;31m             \u001b[0mfqdn\u001b[0m \u001b[0;34m=\u001b[0m \u001b[0msocket\u001b[0m\u001b[0;34m.\u001b[0m\u001b[0mgetfqdn\u001b[0m\u001b[0;34m(\u001b[0m\u001b[0;34m)\u001b[0m\u001b[0;34m\u001b[0m\u001b[0;34m\u001b[0m\u001b[0m\n\u001b[0m\u001b[1;32m    266\u001b[0m             \u001b[0;32mif\u001b[0m \u001b[0;34m'.'\u001b[0m \u001b[0;32min\u001b[0m \u001b[0mfqdn\u001b[0m\u001b[0;34m:\u001b[0m\u001b[0;34m\u001b[0m\u001b[0;34m\u001b[0m\u001b[0m\n\u001b[1;32m    267\u001b[0m                 \u001b[0mself\u001b[0m\u001b[0;34m.\u001b[0m\u001b[0mlocal_hostname\u001b[0m \u001b[0;34m=\u001b[0m \u001b[0mfqdn\u001b[0m\u001b[0;34m\u001b[0m\u001b[0;34m\u001b[0m\u001b[0m\n",
      "\u001b[0;32m~/opt/anaconda3/lib/python3.9/socket.py\u001b[0m in \u001b[0;36mgetfqdn\u001b[0;34m(name)\u001b[0m\n\u001b[1;32m    790\u001b[0m         \u001b[0mname\u001b[0m \u001b[0;34m=\u001b[0m \u001b[0mgethostname\u001b[0m\u001b[0;34m(\u001b[0m\u001b[0;34m)\u001b[0m\u001b[0;34m\u001b[0m\u001b[0;34m\u001b[0m\u001b[0m\n\u001b[1;32m    791\u001b[0m     \u001b[0;32mtry\u001b[0m\u001b[0;34m:\u001b[0m\u001b[0;34m\u001b[0m\u001b[0;34m\u001b[0m\u001b[0m\n\u001b[0;32m--> 792\u001b[0;31m         \u001b[0mhostname\u001b[0m\u001b[0;34m,\u001b[0m \u001b[0maliases\u001b[0m\u001b[0;34m,\u001b[0m \u001b[0mipaddrs\u001b[0m \u001b[0;34m=\u001b[0m \u001b[0mgethostbyaddr\u001b[0m\u001b[0;34m(\u001b[0m\u001b[0mname\u001b[0m\u001b[0;34m)\u001b[0m\u001b[0;34m\u001b[0m\u001b[0;34m\u001b[0m\u001b[0m\n\u001b[0m\u001b[1;32m    793\u001b[0m     \u001b[0;32mexcept\u001b[0m \u001b[0merror\u001b[0m\u001b[0;34m:\u001b[0m\u001b[0;34m\u001b[0m\u001b[0;34m\u001b[0m\u001b[0m\n\u001b[1;32m    794\u001b[0m         \u001b[0;32mpass\u001b[0m\u001b[0;34m\u001b[0m\u001b[0;34m\u001b[0m\u001b[0m\n",
      "\u001b[0;31mKeyboardInterrupt\u001b[0m: "
     ]
    }
   ],
   "source": [
    "while(True):\n",
    "    check_price()\n",
    "    time.sleep(5)"
   ]
  },
  {
   "cell_type": "code",
   "execution_count": null,
   "id": "904ee679",
   "metadata": {},
   "outputs": [],
   "source": []
  },
  {
   "cell_type": "code",
   "execution_count": null,
   "id": "834b7828",
   "metadata": {},
   "outputs": [],
   "source": []
  },
  {
   "cell_type": "code",
   "execution_count": null,
   "id": "5ebc4288",
   "metadata": {},
   "outputs": [],
   "source": []
  },
  {
   "cell_type": "code",
   "execution_count": null,
   "id": "69fe959c",
   "metadata": {},
   "outputs": [],
   "source": []
  }
 ],
 "metadata": {
  "kernelspec": {
   "display_name": "Python 3 (ipykernel)",
   "language": "python",
   "name": "python3"
  },
  "language_info": {
   "codemirror_mode": {
    "name": "ipython",
    "version": 3
   },
   "file_extension": ".py",
   "mimetype": "text/x-python",
   "name": "python",
   "nbconvert_exporter": "python",
   "pygments_lexer": "ipython3",
   "version": "3.9.7"
  }
 },
 "nbformat": 4,
 "nbformat_minor": 5
}
