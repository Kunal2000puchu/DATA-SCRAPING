{
 "cells": [
  {
   "cell_type": "code",
   "execution_count": 4,
   "id": "04e6668d",
   "metadata": {},
   "outputs": [],
   "source": [
    "import requests, openpyxl\n",
    "from bs4 import BeautifulSoup\n",
    "import pandas as pd"
   ]
  },
  {
   "cell_type": "code",
   "execution_count": 2,
   "id": "6fe151a4",
   "metadata": {},
   "outputs": [],
   "source": [
    "data1=[]\n",
    "data2=[]"
   ]
  },
  {
   "cell_type": "code",
   "execution_count": null,
   "id": "05895330",
   "metadata": {},
   "outputs": [],
   "source": [
    "for page in range (1,8):\n",
    "    URL='https://www.medifee.com/hospitals-in-bangalore?page='+str(page)\n",
    "    headers = {\"User-Agent\": \"Mozilla/5.0 (Macintosh; Intel Mac OS X 10_15_7) AppleWebKit/605.1.15 (KHTML, like Gecko) Version/14.1.1 Safari/605.1.15\", }\n",
    "    page = requests.get(URL,headers=headers)\n",
    "    soup = BeautifulSoup(page.content,\"lxml\")\n",
    "    \n",
    "    for res_name in soup.find_all('div',class_='nA6kb'):\n",
    "        Name=res_name.text\n",
    "        data1.append(Name)\n",
    "        #print(Name)\n",
    "        \n",
    "    \n",
    "    for res_type in soup.find_all('div',class_='_1gURR'):\n",
    "        Type=res_type.text\n",
    "        data2.append(Type)\n",
    "        #print(Type)\n",
    "            \n",
    "        \n",
    "    df=pd.DataFrame({'Hospital Name':data1,'Address':data2})\n",
    "    df.to_excel('List of hospital.xlsx',index=True)   "
   ]
  },
  {
   "cell_type": "code",
   "execution_count": 5,
   "id": "0041abcd",
   "metadata": {},
   "outputs": [
    {
     "name": "stdout",
     "output_type": "stream",
     "text": [
      "['Sheet']\n",
      "['List of hospital']\n"
     ]
    }
   ],
   "source": [
    "excel = openpyxl.Workbook()\n",
    "print(excel.sheetnames)\n",
    "sheet = excel.active\n",
    "sheet.title = 'List of hospital'\n",
    "print(excel.sheetnames)\n",
    "sheet.append(['Hospital Name','Address'])"
   ]
  },
  {
   "cell_type": "code",
   "execution_count": 6,
   "id": "fa789676",
   "metadata": {},
   "outputs": [
    {
     "name": "stdout",
     "output_type": "stream",
     "text": [
      "Pristyn Care - Jayanagar \n",
      "Pristyn Care - Electronic City \n",
      "Pristyn Care - Koramangala \n",
      "Pristyn Care - Malleshwaram \n",
      "Pristyn Care - Hebbal \n",
      "Sparsh YPR (Tie up via Pristyn Care) \n",
      "Gopala Nethralaya (Tie up via Pristyn Care) \n",
      "Pristyn Care - Bellandur \n",
      "Pristyn Care - HSR Layout \n",
      "Pristyn Care - Whitefield \n",
      "Pristyn Care -  JP Nagar \n",
      "Santosh hospital (Tie up via Pristyn Care) \n",
      "Sri Sairam Hospital - Kanakpura Road (Tie up via Pristyn Care) \n",
      "Sparsh Hospital - Infantry Road (Tie up via Pristyn Care) \n",
      "The Life Plus Hospital (Tie up via Pristyn Care) \n",
      "Nelivigi Eye Hospital (Tie up via Pristyn Care) \n",
      "Vasavi Hospital (Tie up via Pristyn Care) \n",
      "RMV Hospital (Tie up via Pristyn Care) \n",
      "Divya Jyoti Hospital (Tie up via Pristyn Care) \n",
      "Mithra Multispeciality Hospital (Tie up via Pristyn Care) \n",
      "\n",
      "\n",
      "\n",
      "\n",
      "\n",
      "\n",
      "\n",
      "\n",
      "\n",
      "\n",
      "\n",
      "\n",
      "\n",
      "\n",
      "'NoneType' object has no attribute 'text'\n"
     ]
    }
   ],
   "source": [
    "try:\n",
    "    source = requests.get('https://www.medifee.com/hospitals-in-bangalore')\n",
    "    source.raise_for_status()\n",
    "\n",
    "    soup = BeautifulSoup(source.text,'html.parser')\n",
    "    ##print(soup)\n",
    "    \n",
    "    movies = soup.find('tbody').find_all('tr')\n",
    "    \n",
    "    for movie in movies:\n",
    "        \n",
    "        name = movie.find('td').a.text\n",
    "       # address = movie.find('td')\n",
    "        print(name,)\n",
    "        #sheet.append([name,address])\n",
    "        \n",
    "except Exception as e:\n",
    "    print(e)\n",
    "    \n",
    "#excel.save('IMDB Movie Ratings.xlsx')"
   ]
  },
  {
   "cell_type": "code",
   "execution_count": null,
   "id": "8b1b6658",
   "metadata": {},
   "outputs": [],
   "source": []
  }
 ],
 "metadata": {
  "kernelspec": {
   "display_name": "Python 3 (ipykernel)",
   "language": "python",
   "name": "python3"
  },
  "language_info": {
   "codemirror_mode": {
    "name": "ipython",
    "version": 3
   },
   "file_extension": ".py",
   "mimetype": "text/x-python",
   "name": "python",
   "nbconvert_exporter": "python",
   "pygments_lexer": "ipython3",
   "version": "3.9.7"
  }
 },
 "nbformat": 4,
 "nbformat_minor": 5
}
